{
 "cells": [
  {
   "cell_type": "markdown",
   "metadata": {
    "colab_type": "text",
    "id": "DLkn34WpW_YT"
   },
   "source": [
    "### Connect to Drive"
   ]
  },
  {
   "cell_type": "code",
   "execution_count": 1,
   "metadata": {
    "colab": {
     "base_uri": "https://localhost:8080/",
     "height": 34
    },
    "colab_type": "code",
    "id": "SbXPcNBWBPcH",
    "outputId": "f81272ee-d2e0-4113-a922-30322128b68c"
   },
   "outputs": [
    {
     "name": "stdout",
     "output_type": "stream",
     "text": [
      "Mounted at /content/drive\n"
     ]
    }
   ],
   "source": [
    "from google.colab import drive\n",
    "drive.mount('/content/drive', force_remount=True)"
   ]
  },
  {
   "cell_type": "code",
   "execution_count": 2,
   "metadata": {
    "colab": {
     "base_uri": "https://localhost:8080/",
     "height": 34
    },
    "colab_type": "code",
    "id": "4PwTw7aOA8rr",
    "outputId": "c81a3dd0-2f50-4017-ad1b-a3b0a7d843af"
   },
   "outputs": [
    {
     "name": "stdout",
     "output_type": "stream",
     "text": [
      "/content/drive/My Drive/StoryCompletion/src\n"
     ]
    }
   ],
   "source": [
    "%cd \"/content/drive/My Drive/StoryCompletion/src\""
   ]
  },
  {
   "cell_type": "markdown",
   "metadata": {
    "colab_type": "text",
    "id": "9aoBBu9oW4aS"
   },
   "source": [
    "### Read Model and Generate Text"
   ]
  },
  {
   "cell_type": "code",
   "execution_count": 0,
   "metadata": {
    "colab": {},
    "colab_type": "code",
    "collapsed": true,
    "id": "ePBKJi8yZJUO"
   },
   "outputs": [],
   "source": [
    "import json\n",
    "import os\n",
    "import numpy as np\n",
    "import tensorflow as tf\n",
    "\n",
    "import model, sample, encoder"
   ]
  },
  {
   "cell_type": "code",
   "execution_count": 0,
   "metadata": {
    "colab": {},
    "colab_type": "code",
    "collapsed": true,
    "id": "m5jK1McMCtpv"
   },
   "outputs": [],
   "source": [
    "def get_output(\n",
    "    model_name='345M',\n",
    "    seed=None,\n",
    "    nsamples=1,\n",
    "    batch_size=1,\n",
    "    length=None,\n",
    "    temperature=1,\n",
    "    top_k=0,\n",
    "    top_p=1,\n",
    "    models_dir='models',\n",
    "    raw_text=\"\"\n",
    "):\n",
    "    \"\"\"\n",
    "    Interactively run the model\n",
    "    :model_name=124M : String, which model to use\n",
    "    :seed=None : Integer seed for random number generators, fix seed to reproduce\n",
    "     results\n",
    "    :nsamples=1 : Number of samples to return total\n",
    "    :batch_size=1 : Number of batches (only affects speed/memory).  Must divide nsamples.\n",
    "    :length=None : Number of tokens in generated text, if None (default), is\n",
    "     determined by model hyperparameters\n",
    "    :temperature=1 : Float value controlling randomness in boltzmann\n",
    "     distribution. Lower temperature results in less random completions. As the\n",
    "     temperature approaches zero, the model will become deterministic and\n",
    "     repetitive. Higher temperature results in more random completions.\n",
    "    :top_k=0 : Integer value controlling diversity. 1 means only 1 word is\n",
    "     considered for each step (token), resulting in deterministic completions,\n",
    "     while 40 means 40 words are considered at each step. 0 (default) is a\n",
    "     special setting meaning no restrictions. 40 generally is a good value.\n",
    "     :models_dir : path to parent folder containing model subfolders\n",
    "     (i.e. contains the <model_name> folder)\n",
    "    \"\"\"\n",
    "    models_dir = os.path.expanduser(os.path.expandvars(models_dir))\n",
    "    if batch_size is None:\n",
    "        batch_size = 1\n",
    "    assert nsamples % batch_size == 0\n",
    "\n",
    "    enc = encoder.get_encoder(model_name, models_dir)\n",
    "    hparams = model.default_hparams()\n",
    "    with open(os.path.join(models_dir, model_name, 'hparams.json')) as f:\n",
    "        hparams.override_from_dict(json.load(f))\n",
    "\n",
    "    if length is None:\n",
    "        length = hparams.n_ctx // 2\n",
    "    elif length > hparams.n_ctx:\n",
    "        raise ValueError(\"Can't get samples longer than window size: %s\" % hparams.n_ctx)\n",
    "\n",
    "    with tf.Session(graph=tf.Graph()) as sess:\n",
    "        context = tf.placeholder(tf.int32, [batch_size, None])\n",
    "        np.random.seed(seed)\n",
    "        tf.set_random_seed(seed)\n",
    "        output = sample.sample_sequence(\n",
    "            hparams=hparams, length=length,\n",
    "            context=context,\n",
    "            batch_size=batch_size,\n",
    "            temperature=temperature, top_k=top_k, top_p=top_p\n",
    "        )\n",
    "\n",
    "        saver = tf.train.Saver()\n",
    "        ckpt = tf.train.latest_checkpoint(os.path.join(models_dir, model_name))\n",
    "        saver.restore(sess, ckpt)\n",
    "\n",
    "        \n",
    "        context_tokens = enc.encode(raw_text)\n",
    "        generated = 0\n",
    "        for _ in range(nsamples // batch_size):\n",
    "            out = sess.run(output, feed_dict={\n",
    "                context: [context_tokens for _ in range(batch_size)]\n",
    "            })[:, len(context_tokens):]\n",
    "            for i in range(batch_size):\n",
    "                generated += 1\n",
    "                text = enc.decode(out[i])\n",
    "        return text"
   ]
  },
  {
   "cell_type": "code",
   "execution_count": null,
   "metadata": {
    "colab": {
     "base_uri": "https://localhost:8080/",
     "height": 272
    },
    "colab_type": "code",
    "id": "IxJjHzO2D4PN",
    "outputId": "a8fe73d1-2435-463d-b391-29d194af9818"
   },
   "outputs": [],
   "source": [
    "get_output(model_name=\"run1\", raw_text=\"Ron was talking on the phone\")"
   ]
  },
  {
   "cell_type": "markdown",
   "metadata": {
    "colab_type": "text",
    "id": "BpWw1rtCsLt_"
   },
   "source": [
    "### LR- ROC Stories"
   ]
  },
  {
   "cell_type": "code",
   "execution_count": 0,
   "metadata": {
    "colab": {},
    "colab_type": "code",
    "collapsed": true,
    "id": "oLM2baUisKBH"
   },
   "outputs": [],
   "source": [
    "roc = open(\"evaluation/ShortStoriesTest.txt\").read()"
   ]
  },
  {
   "cell_type": "code",
   "execution_count": 0,
   "metadata": {
    "colab": {},
    "colab_type": "code",
    "collapsed": true,
    "id": "U5pBn6SusXVl"
   },
   "outputs": [],
   "source": [
    "roc = roc.split(\"\\n\")"
   ]
  },
  {
   "cell_type": "code",
   "execution_count": 0,
   "metadata": {
    "colab": {},
    "colab_type": "code",
    "collapsed": true,
    "id": "M_ZeGdyssdKU"
   },
   "outputs": [],
   "source": [
    "roc_df = pd.DataFrame(columns=[\"input\", \"continuation\", \"label\"])\n",
    "\n",
    "random_indices = []\n",
    "df_idx = 0\n",
    "\n",
    "while True:\n",
    "    if roc_df.shape[0] > 200:\n",
    "        break\n",
    "    index = random.randint(0, len(roc) - 2)\n",
    "    if index in random_indices:\n",
    "        continue\n",
    "    random_indices.append(index)\n",
    "    input_text = roc[index].split('. ')[0] + \".\"\n",
    "    output_text = '. '.join(roc[index].split('. ')[1:])\n",
    "    row1 = {\n",
    "        \"input\": input_text,\n",
    "        \"continuation\": output_text,\n",
    "        \"label\": 0\n",
    "    }\n",
    "    roc_df.loc[df_idx] = row1\n",
    "    df_idx += 1\n",
    "    row2 = {\n",
    "        \"input\": input_text,\n",
    "        \"continuation\": get_output(model_name=\"ROC\", \n",
    "                                input_text = input_text,\n",
    "                                length = 50).split('\\n')[0],\n",
    "        \"label\": 1\n",
    "    }\n",
    "    roc_df.loc[df_idx] = row2\n",
    "    df_idx += 1"
   ]
  },
  {
   "cell_type": "code",
   "execution_count": 0,
   "metadata": {
    "colab": {},
    "colab_type": "code",
    "collapsed": true,
    "id": "9Dq2n_c6uiOW"
   },
   "outputs": [],
   "source": [
    "roc_df.to_csv(\"evaluation/roc_test.csv\", index=False)"
   ]
  },
  {
   "cell_type": "code",
   "execution_count": 0,
   "metadata": {
    "colab": {},
    "colab_type": "code",
    "collapsed": true,
    "id": "E98lqNszx0HH"
   },
   "outputs": [],
   "source": [
    "roc_df['clean_output'] = roc_df['continuation'].apply(lambda doc: clean_doc(doc, stemmer))"
   ]
  },
  {
   "cell_type": "code",
   "execution_count": 0,
   "metadata": {
    "colab": {},
    "colab_type": "code",
    "collapsed": true,
    "id": "sa7vEcG2x9TR"
   },
   "outputs": [],
   "source": [
    "X = tfidfconverter.fit_transform(list(roc_df[\"clean_output\"])).toarray()"
   ]
  },
  {
   "cell_type": "code",
   "execution_count": 0,
   "metadata": {
    "colab": {},
    "colab_type": "code",
    "collapsed": true,
    "id": "eVgLUe4iyiif"
   },
   "outputs": [],
   "source": [
    "X_train, X_test, y_train, y_test = train_test_split(X, roc_df['label'].astype(int))"
   ]
  },
  {
   "cell_type": "code",
   "execution_count": 0,
   "metadata": {
    "colab": {
     "base_uri": "https://localhost:8080/",
     "height": 138
    },
    "colab_type": "code",
    "id": "EVbzLKRDym7L",
    "outputId": "c9220b02-de23-4cbd-df78-fd22ad86a9f6"
   },
   "outputs": [
    {
     "name": "stderr",
     "output_type": "stream",
     "text": [
      "/usr/local/lib/python3.6/dist-packages/sklearn/linear_model/logistic.py:433: FutureWarning: Default solver will be changed to 'lbfgs' in 0.22. Specify a solver to silence this warning.\n",
      "  FutureWarning)\n"
     ]
    },
    {
     "data": {
      "text/plain": [
       "LogisticRegression(C=1.0, class_weight=None, dual=False, fit_intercept=True,\n",
       "          intercept_scaling=1, max_iter=100, multi_class='warn',\n",
       "          n_jobs=None, penalty='l2', random_state=None, solver='warn',\n",
       "          tol=0.0001, verbose=0, warm_start=False)"
      ]
     },
     "execution_count": 158,
     "metadata": {
      "tags": []
     },
     "output_type": "execute_result"
    }
   ],
   "source": [
    "lr_clf = LogisticRegression()\n",
    "lr_clf.fit(X_train, y_train)"
   ]
  },
  {
   "cell_type": "code",
   "execution_count": 0,
   "metadata": {
    "colab": {},
    "colab_type": "code",
    "collapsed": true,
    "id": "Vem8FRkqyqbQ"
   },
   "outputs": [],
   "source": [
    "predictions = lr_clf.predict(X_test)"
   ]
  },
  {
   "cell_type": "code",
   "execution_count": 0,
   "metadata": {
    "colab": {
     "base_uri": "https://localhost:8080/",
     "height": 50
    },
    "colab_type": "code",
    "id": "DWTWuyuHytbp",
    "outputId": "7ef5bf2b-9a6b-4e54-cc2e-d62761ae343a"
   },
   "outputs": [
    {
     "name": "stdout",
     "output_type": "stream",
     "text": [
      "Accuracy 0.49019607843137253\n",
      "F1 0.4999999999999999\n"
     ]
    }
   ],
   "source": [
    "print(\"Accuracy\", accuracy_score(y_test, predictions))\n",
    "print(\"F1\", f1_score(y_test, predictions))"
   ]
  },
  {
   "cell_type": "markdown",
   "metadata": {
    "colab_type": "text",
    "id": "YJjUK0kZ5Wtl"
   },
   "source": [
    "### Calculating Perplexity"
   ]
  },
  {
   "cell_type": "code",
   "execution_count": 0,
   "metadata": {
    "colab": {},
    "colab_type": "code",
    "collapsed": true,
    "id": "Cpd7DeWyQcPr"
   },
   "outputs": [],
   "source": [
    "corpus = \" \".join(open(\"evaluation/ShortStoriesTest.txt\").read().split(\"\\n\"))"
   ]
  },
  {
   "cell_type": "code",
   "execution_count": 0,
   "metadata": {
    "colab": {},
    "colab_type": "code",
    "collapsed": true,
    "id": "O-T55T2iRIHo"
   },
   "outputs": [],
   "source": [
    "roc_tokens = nltk.word_tokenize(corpus)"
   ]
  },
  {
   "cell_type": "code",
   "execution_count": 0,
   "metadata": {
    "colab": {},
    "colab_type": "code",
    "collapsed": true,
    "id": "PT9H7m4YRdAc"
   },
   "outputs": [],
   "source": [
    "roc_unigram_model = unigram(roc_tokens)"
   ]
  },
  {
   "cell_type": "code",
   "execution_count": 0,
   "metadata": {
    "colab": {},
    "colab_type": "code",
    "collapsed": true,
    "id": "sg0VDamBRwSz"
   },
   "outputs": [],
   "source": [
    "roc_df = pd.read_csv(\"evaluation/roc_test.csv\")"
   ]
  },
  {
   "cell_type": "code",
   "execution_count": 0,
   "metadata": {
    "colab": {},
    "colab_type": "code",
    "collapsed": true,
    "id": "rTgOpSBXR4py"
   },
   "outputs": [],
   "source": [
    "roc_sentences = list(roc_df[roc_df.label == 1][\"continuation\"].dropna().str.split(\"\\. \"))"
   ]
  },
  {
   "cell_type": "code",
   "execution_count": 0,
   "metadata": {
    "colab": {},
    "colab_type": "code",
    "collapsed": true,
    "id": "NjbJTSOcSjvx"
   },
   "outputs": [],
   "source": [
    "testset = []"
   ]
  },
  {
   "cell_type": "code",
   "execution_count": 0,
   "metadata": {
    "colab": {},
    "colab_type": "code",
    "collapsed": true,
    "id": "POcP526VSlXP"
   },
   "outputs": [],
   "source": [
    "for sentence in roc_sentences:\n",
    "#     print(sentence)\n",
    "    testset.extend(sentence)"
   ]
  },
  {
   "cell_type": "code",
   "execution_count": 0,
   "metadata": {
    "colab": {
     "base_uri": "https://localhost:8080/",
     "height": 34
    },
    "colab_type": "code",
    "id": "xhrL9NrSSqsD",
    "outputId": "ad45ff6f-0c8a-4d63-dd2c-9a7e56a51c51"
   },
   "outputs": [
    {
     "data": {
      "text/plain": [
       "807.0305980382706"
      ]
     },
     "execution_count": 171,
     "metadata": {
      "tags": []
     },
     "output_type": "execute_result"
    }
   ],
   "source": [
    "np.mean(calc_perplexity(testset, roc_unigram_model))"
   ]
  },
  {
   "cell_type": "markdown",
   "metadata": {
    "colab_type": "text",
    "id": "Y1XERF8cP3qF"
   },
   "source": [
    "### Cosine Similarity"
   ]
  },
  {
   "cell_type": "code",
   "execution_count": 0,
   "metadata": {
    "colab": {},
    "colab_type": "code",
    "collapsed": true,
    "id": "gz1KTeTnQTu9"
   },
   "outputs": [],
   "source": [
    "import pandas as pd\n",
    "import numpy as np"
   ]
  },
  {
   "cell_type": "code",
   "execution_count": 31,
   "metadata": {
    "colab": {
     "base_uri": "https://localhost:8080/",
     "height": 50
    },
    "colab_type": "code",
    "id": "kHtS4928RSfn",
    "outputId": "462dab68-fe2f-4fa7-d5fa-7fad30251caa"
   },
   "outputs": [
    {
     "name": "stderr",
     "output_type": "stream",
     "text": [
      "/usr/local/lib/python3.6/dist-packages/smart_open/ssh.py:34: UserWarning: paramiko missing, opening SSH/SCP/SFTP paths will be disabled.  `pip install paramiko` to suppress\n",
      "  warnings.warn('paramiko missing, opening SSH/SCP/SFTP paths will be disabled.  `pip install paramiko` to suppress')\n"
     ]
    }
   ],
   "source": [
    "from spacy.lang.en.stop_words import STOP_WORDS\n",
    "import gensim, re\n",
    "import numpy as np\n",
    "from scipy.spatial.distance import cosine"
   ]
  },
  {
   "cell_type": "code",
   "execution_count": 0,
   "metadata": {
    "colab": {},
    "colab_type": "code",
    "collapsed": true,
    "id": "dL6HCzH5RT3w"
   },
   "outputs": [],
   "source": [
    "w2v = gensim.models.KeyedVectors.load_word2vec_format(\"models/GoogleNews-vectors-negative300-SLIM.bin\", binary=True)"
   ]
  },
  {
   "cell_type": "code",
   "execution_count": 0,
   "metadata": {
    "colab": {},
    "colab_type": "code",
    "collapsed": true,
    "id": "9cYf0YWmTbVQ"
   },
   "outputs": [],
   "source": [
    "def clean(text):\n",
    "    text = text.lower()\n",
    "    text = text.replace(\"\\n\", \" \")\n",
    "    text = re.sub(r\"[\\W\\d]\", \" \", text)\n",
    "    text = re.sub(r\"\\s+\", \" \", text)\n",
    "    for word in STOP_WORDS:\n",
    "        text = text.replace(\" \" + word + \" \", \" \")\n",
    "    return text"
   ]
  },
  {
   "cell_type": "code",
   "execution_count": 0,
   "metadata": {
    "colab": {},
    "colab_type": "code",
    "collapsed": true,
    "id": "qNZykFLOTed5"
   },
   "outputs": [],
   "source": [
    "def getAverageVector(text, w2v):\n",
    "    words = clean(text).split()\n",
    "    vectors = []\n",
    "    for word in words:\n",
    "        try:\n",
    "            vectors.append(w2v[word])\n",
    "        except:\n",
    "            continue\n",
    "    return np.mean(vectors, axis=0)"
   ]
  },
  {
   "cell_type": "code",
   "execution_count": 0,
   "metadata": {
    "colab": {},
    "colab_type": "code",
    "collapsed": true,
    "id": "fqlE_dXiTrHj"
   },
   "outputs": [],
   "source": [
    "def getSimilarity(actual, generated, w2v=w2v):\n",
    "    v1 = getAverageVector(actual, w2v)\n",
    "    v2 = getAverageVector(generated, w2v)\n",
    "    return 1 - cosine(v1, v2)"
   ]
  },
  {
   "cell_type": "code",
   "execution_count": 0,
   "metadata": {
    "colab": {},
    "colab_type": "code",
    "collapsed": true,
    "id": "_3mOfBURP2XZ"
   },
   "outputs": [],
   "source": [
    "df_roc = pd.read_csv(\"evaluation/roc_test.csv\")"
   ]
  },
  {
   "cell_type": "code",
   "execution_count": 0,
   "metadata": {
    "colab": {
     "base_uri": "https://localhost:8080/",
     "height": 195
    },
    "colab_type": "code",
    "id": "Pcu4PuKbQaqV",
    "outputId": "82ace383-a3bf-44c8-8981-01b78cb22869"
   },
   "outputs": [
    {
     "data": {
      "text/html": [
       "<div>\n",
       "<style scoped>\n",
       "    .dataframe tbody tr th:only-of-type {\n",
       "        vertical-align: middle;\n",
       "    }\n",
       "\n",
       "    .dataframe tbody tr th {\n",
       "        vertical-align: top;\n",
       "    }\n",
       "\n",
       "    .dataframe thead th {\n",
       "        text-align: right;\n",
       "    }\n",
       "</style>\n",
       "<table border=\"1\" class=\"dataframe\">\n",
       "  <thead>\n",
       "    <tr style=\"text-align: right;\">\n",
       "      <th></th>\n",
       "      <th>input</th>\n",
       "      <th>continuation</th>\n",
       "      <th>label</th>\n",
       "    </tr>\n",
       "  </thead>\n",
       "  <tbody>\n",
       "    <tr>\n",
       "      <th>0</th>\n",
       "      <td>Our manager introduced us to a new employee.</td>\n",
       "      <td>Since she was attractive, all of the guys were...</td>\n",
       "      <td>0</td>\n",
       "    </tr>\n",
       "    <tr>\n",
       "      <th>1</th>\n",
       "      <td>Our manager introduced us to a new employee.</td>\n",
       "      <td>The new employee was nice and young. I though...</td>\n",
       "      <td>1</td>\n",
       "    </tr>\n",
       "    <tr>\n",
       "      <th>2</th>\n",
       "      <td>Carl was tasked with finding his family's Chri...</td>\n",
       "      <td>He was fifteen and he felt very manly and impo...</td>\n",
       "      <td>0</td>\n",
       "    </tr>\n",
       "    <tr>\n",
       "      <th>3</th>\n",
       "      <td>Carl was tasked with finding his family's Chri...</td>\n",
       "      <td>He searched all over town for his dad. There,...</td>\n",
       "      <td>1</td>\n",
       "    </tr>\n",
       "    <tr>\n",
       "      <th>4</th>\n",
       "      <td>Bob was always upset about his looks.</td>\n",
       "      <td>So he saved up money to get plastic surgery. H...</td>\n",
       "      <td>0</td>\n",
       "    </tr>\n",
       "  </tbody>\n",
       "</table>\n",
       "</div>"
      ],
      "text/plain": [
       "                                               input  \\\n",
       "0       Our manager introduced us to a new employee.   \n",
       "1       Our manager introduced us to a new employee.   \n",
       "2  Carl was tasked with finding his family's Chri...   \n",
       "3  Carl was tasked with finding his family's Chri...   \n",
       "4              Bob was always upset about his looks.   \n",
       "\n",
       "                                        continuation  label  \n",
       "0  Since she was attractive, all of the guys were...      0  \n",
       "1   The new employee was nice and young. I though...      1  \n",
       "2  He was fifteen and he felt very manly and impo...      0  \n",
       "3   He searched all over town for his dad. There,...      1  \n",
       "4  So he saved up money to get plastic surgery. H...      0  "
      ]
     },
     "execution_count": 7,
     "metadata": {
      "tags": []
     },
     "output_type": "execute_result"
    }
   ],
   "source": [
    "df_roc.head()"
   ]
  },
  {
   "cell_type": "code",
   "execution_count": 0,
   "metadata": {
    "colab": {},
    "colab_type": "code",
    "collapsed": true,
    "id": "Aaso-3DbRZOt"
   },
   "outputs": [],
   "source": [
    "comparative_df = pd.concat([df_roc[df_roc.label == 0].set_index('input'), df_roc[df_roc.label == 1].set_index('input')], axis = 1).reset_index()"
   ]
  },
  {
   "cell_type": "code",
   "execution_count": 0,
   "metadata": {
    "colab": {},
    "colab_type": "code",
    "collapsed": true,
    "id": "_qD_OmXKS3Hi"
   },
   "outputs": [],
   "source": [
    "comparative_df.columns = [\"input\", \"actual\", \"label0\", \"generated\", \"label1\"]"
   ]
  },
  {
   "cell_type": "code",
   "execution_count": 0,
   "metadata": {
    "colab": {},
    "colab_type": "code",
    "collapsed": true,
    "id": "0hkK-TiVS_x8"
   },
   "outputs": [],
   "source": [
    "comparative_df = comparative_df[[\"input\", \"actual\", \"generated\"]].dropna().copy()"
   ]
  },
  {
   "cell_type": "code",
   "execution_count": 0,
   "metadata": {
    "colab": {},
    "colab_type": "code",
    "collapsed": true,
    "id": "fhLziwTKTIFf"
   },
   "outputs": [],
   "source": [
    "comparative_df[\"cosine_similarity\"] = np.vectorize(getSimilarity)(comparative_df[\"actual\"], comparative_df[\"generated\"])"
   ]
  },
  {
   "cell_type": "code",
   "execution_count": 0,
   "metadata": {
    "colab": {
     "base_uri": "https://localhost:8080/",
     "height": 279
    },
    "colab_type": "code",
    "id": "wuIcMUJuU8Ew",
    "outputId": "7bf2eea7-164f-4a4b-aac7-9c4983d48234"
   },
   "outputs": [
    {
     "data": {
      "text/html": [
       "<div>\n",
       "<style scoped>\n",
       "    .dataframe tbody tr th:only-of-type {\n",
       "        vertical-align: middle;\n",
       "    }\n",
       "\n",
       "    .dataframe tbody tr th {\n",
       "        vertical-align: top;\n",
       "    }\n",
       "\n",
       "    .dataframe thead th {\n",
       "        text-align: right;\n",
       "    }\n",
       "</style>\n",
       "<table border=\"1\" class=\"dataframe\">\n",
       "  <thead>\n",
       "    <tr style=\"text-align: right;\">\n",
       "      <th></th>\n",
       "      <th>input</th>\n",
       "      <th>actual</th>\n",
       "      <th>generated</th>\n",
       "      <th>cosine_similarity</th>\n",
       "    </tr>\n",
       "  </thead>\n",
       "  <tbody>\n",
       "    <tr>\n",
       "      <th>0</th>\n",
       "      <td>Our manager introduced us to a new employee.</td>\n",
       "      <td>Since she was attractive, all of the guys were...</td>\n",
       "      <td>The new employee was nice and young. I though...</td>\n",
       "      <td>0.649152</td>\n",
       "    </tr>\n",
       "    <tr>\n",
       "      <th>1</th>\n",
       "      <td>Carl was tasked with finding his family's Chri...</td>\n",
       "      <td>He was fifteen and he felt very manly and impo...</td>\n",
       "      <td>He searched all over town for his dad. There,...</td>\n",
       "      <td>0.724642</td>\n",
       "    </tr>\n",
       "    <tr>\n",
       "      <th>2</th>\n",
       "      <td>Bob was always upset about his looks.</td>\n",
       "      <td>So he saved up money to get plastic surgery. H...</td>\n",
       "      <td>When she nurses the Metro, he would always co...</td>\n",
       "      <td>0.302044</td>\n",
       "    </tr>\n",
       "    <tr>\n",
       "      <th>3</th>\n",
       "      <td>The man was not honest or ethical.</td>\n",
       "      <td>He would get people to invest in his business ...</td>\n",
       "      <td>He was just an evil man. A fact he cared very...</td>\n",
       "      <td>0.488777</td>\n",
       "    </tr>\n",
       "    <tr>\n",
       "      <th>4</th>\n",
       "      <td>Randy was a guard in a prison.</td>\n",
       "      <td>One day, he became distracted watching The Sim...</td>\n",
       "      <td>He watched as his fellow guards acted strange...</td>\n",
       "      <td>0.622700</td>\n",
       "    </tr>\n",
       "  </tbody>\n",
       "</table>\n",
       "</div>"
      ],
      "text/plain": [
       "                                               input  \\\n",
       "0       Our manager introduced us to a new employee.   \n",
       "1  Carl was tasked with finding his family's Chri...   \n",
       "2              Bob was always upset about his looks.   \n",
       "3                 The man was not honest or ethical.   \n",
       "4                     Randy was a guard in a prison.   \n",
       "\n",
       "                                              actual  \\\n",
       "0  Since she was attractive, all of the guys were...   \n",
       "1  He was fifteen and he felt very manly and impo...   \n",
       "2  So he saved up money to get plastic surgery. H...   \n",
       "3  He would get people to invest in his business ...   \n",
       "4  One day, he became distracted watching The Sim...   \n",
       "\n",
       "                                           generated  cosine_similarity  \n",
       "0   The new employee was nice and young. I though...           0.649152  \n",
       "1   He searched all over town for his dad. There,...           0.724642  \n",
       "2   When she nurses the Metro, he would always co...           0.302044  \n",
       "3   He was just an evil man. A fact he cared very...           0.488777  \n",
       "4   He watched as his fellow guards acted strange...           0.622700  "
      ]
     },
     "execution_count": 33,
     "metadata": {
      "tags": []
     },
     "output_type": "execute_result"
    }
   ],
   "source": [
    "comparative_df.head()"
   ]
  },
  {
   "cell_type": "code",
   "execution_count": 0,
   "metadata": {
    "colab": {
     "base_uri": "https://localhost:8080/",
     "height": 34
    },
    "colab_type": "code",
    "id": "iVHFrsl4VSdK",
    "outputId": "c26205e6-7851-4eae-e059-1371a213207d"
   },
   "outputs": [
    {
     "data": {
      "text/plain": [
       "0.5393762010700849"
      ]
     },
     "execution_count": 34,
     "metadata": {
      "tags": []
     },
     "output_type": "execute_result"
    }
   ],
   "source": [
    "comparative_df[\"cosine_similarity\"].mean()"
   ]
  },
  {
   "cell_type": "markdown",
   "metadata": {
    "colab_type": "text",
    "id": "MzV6FeHY8HAN"
   },
   "source": [
    "### First Baseline"
   ]
  },
  {
   "cell_type": "code",
   "execution_count": 0,
   "metadata": {
    "colab": {},
    "colab_type": "code",
    "collapsed": true,
    "id": "9ntTm-AK8fSP"
   },
   "outputs": [],
   "source": [
    "baseline = \"The quick brown fox jumped over the lazy dog\""
   ]
  },
  {
   "cell_type": "code",
   "execution_count": 77,
   "metadata": {
    "colab": {
     "base_uri": "https://localhost:8080/",
     "height": 195
    },
    "colab_type": "code",
    "id": "JnwYXmtNARgZ",
    "outputId": "9e34ec3f-49f6-4023-9ed5-b556ef51fbad"
   },
   "outputs": [
    {
     "data": {
      "text/html": [
       "<div>\n",
       "<style scoped>\n",
       "    .dataframe tbody tr th:only-of-type {\n",
       "        vertical-align: middle;\n",
       "    }\n",
       "\n",
       "    .dataframe tbody tr th {\n",
       "        vertical-align: top;\n",
       "    }\n",
       "\n",
       "    .dataframe thead th {\n",
       "        text-align: right;\n",
       "    }\n",
       "</style>\n",
       "<table border=\"1\" class=\"dataframe\">\n",
       "  <thead>\n",
       "    <tr style=\"text-align: right;\">\n",
       "      <th></th>\n",
       "      <th>input</th>\n",
       "      <th>continuation</th>\n",
       "      <th>label</th>\n",
       "    </tr>\n",
       "  </thead>\n",
       "  <tbody>\n",
       "    <tr>\n",
       "      <th>0</th>\n",
       "      <td>Our manager introduced us to a new employee.</td>\n",
       "      <td>Since she was attractive, all of the guys were...</td>\n",
       "      <td>0</td>\n",
       "    </tr>\n",
       "    <tr>\n",
       "      <th>1</th>\n",
       "      <td>Our manager introduced us to a new employee.</td>\n",
       "      <td>The new employee was nice and young. I though...</td>\n",
       "      <td>1</td>\n",
       "    </tr>\n",
       "    <tr>\n",
       "      <th>2</th>\n",
       "      <td>Carl was tasked with finding his family's Chri...</td>\n",
       "      <td>He was fifteen and he felt very manly and impo...</td>\n",
       "      <td>0</td>\n",
       "    </tr>\n",
       "    <tr>\n",
       "      <th>3</th>\n",
       "      <td>Carl was tasked with finding his family's Chri...</td>\n",
       "      <td>He searched all over town for his dad. There,...</td>\n",
       "      <td>1</td>\n",
       "    </tr>\n",
       "    <tr>\n",
       "      <th>4</th>\n",
       "      <td>Bob was always upset about his looks.</td>\n",
       "      <td>So he saved up money to get plastic surgery. H...</td>\n",
       "      <td>0</td>\n",
       "    </tr>\n",
       "  </tbody>\n",
       "</table>\n",
       "</div>"
      ],
      "text/plain": [
       "                                               input  \\\n",
       "0       Our manager introduced us to a new employee.   \n",
       "1       Our manager introduced us to a new employee.   \n",
       "2  Carl was tasked with finding his family's Chri...   \n",
       "3  Carl was tasked with finding his family's Chri...   \n",
       "4              Bob was always upset about his looks.   \n",
       "\n",
       "                                        continuation  label  \n",
       "0  Since she was attractive, all of the guys were...      0  \n",
       "1   The new employee was nice and young. I though...      1  \n",
       "2  He was fifteen and he felt very manly and impo...      0  \n",
       "3   He searched all over town for his dad. There,...      1  \n",
       "4  So he saved up money to get plastic surgery. H...      0  "
      ]
     },
     "execution_count": 77,
     "metadata": {
      "tags": []
     },
     "output_type": "execute_result"
    }
   ],
   "source": [
    "roc_df.head()"
   ]
  },
  {
   "cell_type": "code",
   "execution_count": 0,
   "metadata": {
    "colab": {},
    "colab_type": "code",
    "collapsed": true,
    "id": "NVQmz742AfX9"
   },
   "outputs": [],
   "source": [
    "comparative_df = pd.concat([roc_df[roc_df.label == 0].set_index('input'), roc_df[roc_df.label == 1].set_index('input')], axis = 1).reset_index()"
   ]
  },
  {
   "cell_type": "code",
   "execution_count": 0,
   "metadata": {
    "colab": {},
    "colab_type": "code",
    "collapsed": true,
    "id": "Igp8woe9AmcZ"
   },
   "outputs": [],
   "source": [
    "comparative_df.columns = [\"input\", \"actual\", \"label0\", \"generated\", \"label1\"]"
   ]
  },
  {
   "cell_type": "code",
   "execution_count": 0,
   "metadata": {
    "colab": {},
    "colab_type": "code",
    "collapsed": true,
    "id": "Aj_e6ssrAvPm"
   },
   "outputs": [],
   "source": [
    "comparative_df = comparative_df[[\"input\", \"actual\", \"generated\"]].dropna().copy()"
   ]
  },
  {
   "cell_type": "code",
   "execution_count": 0,
   "metadata": {
    "colab": {},
    "colab_type": "code",
    "collapsed": true,
    "id": "p_YtqV1jA3ry"
   },
   "outputs": [],
   "source": [
    "comparative_df[\"baseline\"] = baseline"
   ]
  },
  {
   "cell_type": "markdown",
   "metadata": {
    "colab_type": "text",
    "id": "9qJHUtVxA6yq"
   },
   "source": [
    "##### Cosine Similarity"
   ]
  },
  {
   "cell_type": "code",
   "execution_count": 0,
   "metadata": {
    "colab": {},
    "colab_type": "code",
    "collapsed": true,
    "id": "2beEWBFWA9Wt"
   },
   "outputs": [],
   "source": [
    "comparative_df[\"baseline_cosine_similarity\"] = np.vectorize(getSimilarity)(comparative_df[\"actual\"], comparative_df[\"baseline\"])"
   ]
  },
  {
   "cell_type": "code",
   "execution_count": 85,
   "metadata": {
    "colab": {
     "base_uri": "https://localhost:8080/",
     "height": 34
    },
    "colab_type": "code",
    "id": "gYflcttsBDV4",
    "outputId": "d924af7e-831f-4040-b86d-05fed22bacf4"
   },
   "outputs": [
    {
     "data": {
      "text/plain": [
       "0.4847811259785477"
      ]
     },
     "execution_count": 85,
     "metadata": {
      "tags": []
     },
     "output_type": "execute_result"
    }
   ],
   "source": [
    "comparative_df[\"baseline_cosine_similarity\"].mean()"
   ]
  },
  {
   "cell_type": "markdown",
   "metadata": {
    "colab_type": "text",
    "id": "sYFW8MOVBJGW"
   },
   "source": [
    "##### Perplexity"
   ]
  },
  {
   "cell_type": "code",
   "execution_count": 86,
   "metadata": {
    "colab": {
     "base_uri": "https://localhost:8080/",
     "height": 34
    },
    "colab_type": "code",
    "id": "2fZYxdP-BG5Y",
    "outputId": "846471c7-52b2-4168-ac93-75ca99e54758"
   },
   "outputs": [
    {
     "data": {
      "text/plain": [
       "[2835.1219901488835]"
      ]
     },
     "execution_count": 86,
     "metadata": {
      "tags": []
     },
     "output_type": "execute_result"
    }
   ],
   "source": [
    "calc_perplexity([baseline], roc_unigram_model)"
   ]
  },
  {
   "cell_type": "markdown",
   "metadata": {
    "colab_type": "text",
    "id": "ikP3cxASBSN2"
   },
   "source": [
    "##### Classification"
   ]
  },
  {
   "cell_type": "code",
   "execution_count": 0,
   "metadata": {
    "colab": {},
    "colab_type": "code",
    "collapsed": true,
    "id": "MKPSVa-9BT7s"
   },
   "outputs": [],
   "source": [
    "roc_df[\"pred\"] = [random.randint(0, 1) for i in roc_df.index]"
   ]
  },
  {
   "cell_type": "code",
   "execution_count": 88,
   "metadata": {
    "colab": {
     "base_uri": "https://localhost:8080/",
     "height": 34
    },
    "colab_type": "code",
    "id": "oJgn954DBZMu",
    "outputId": "bb8640e9-a8a9-4cc2-a46f-07da88347a23"
   },
   "outputs": [
    {
     "name": "stdout",
     "output_type": "stream",
     "text": [
      "Accuracy:  0.4306930693069307\n"
     ]
    }
   ],
   "source": [
    "print(\"Accuracy: \", accuracy_score(roc_df[\"label\"], roc_df[\"pred\"]))"
   ]
  },
  {
   "cell_type": "code",
   "execution_count": 89,
   "metadata": {
    "colab": {
     "base_uri": "https://localhost:8080/",
     "height": 34
    },
    "colab_type": "code",
    "id": "nuCmKfnwBeDG",
    "outputId": "d3d93860-6f9a-424b-cdac-4911c858c02a"
   },
   "outputs": [
    {
     "name": "stdout",
     "output_type": "stream",
     "text": [
      "F1:  0.42786069651741293\n"
     ]
    }
   ],
   "source": [
    "print(\"F1: \", f1_score(roc_df[\"label\"], roc_df[\"pred\"]))"
   ]
  },
  {
   "cell_type": "markdown",
   "metadata": {
    "colab_type": "text",
    "id": "qI_X6foOeyq7"
   },
   "source": [
    "### Second Baseline"
   ]
  },
  {
   "cell_type": "code",
   "execution_count": 0,
   "metadata": {
    "colab": {},
    "colab_type": "code",
    "collapsed": true,
    "id": "3xIh8A0Ke3lG"
   },
   "outputs": [],
   "source": [
    "roc_baseline = \"The new employee was nice and young.\""
   ]
  },
  {
   "cell_type": "markdown",
   "metadata": {
    "colab_type": "text",
    "id": "q9RdcOYXZord"
   },
   "source": [
    "#### Baseline Cosine Similarity"
   ]
  },
  {
   "cell_type": "code",
   "execution_count": 0,
   "metadata": {
    "colab": {
     "base_uri": "https://localhost:8080/",
     "height": 195
    },
    "colab_type": "code",
    "id": "WngbFTIbZqOh",
    "outputId": "ab9c815d-e6a3-4a40-fad1-0ac73682294b"
   },
   "outputs": [
    {
     "data": {
      "text/html": [
       "<div>\n",
       "<style scoped>\n",
       "    .dataframe tbody tr th:only-of-type {\n",
       "        vertical-align: middle;\n",
       "    }\n",
       "\n",
       "    .dataframe tbody tr th {\n",
       "        vertical-align: top;\n",
       "    }\n",
       "\n",
       "    .dataframe thead th {\n",
       "        text-align: right;\n",
       "    }\n",
       "</style>\n",
       "<table border=\"1\" class=\"dataframe\">\n",
       "  <thead>\n",
       "    <tr style=\"text-align: right;\">\n",
       "      <th></th>\n",
       "      <th>input</th>\n",
       "      <th>continuation</th>\n",
       "      <th>label</th>\n",
       "    </tr>\n",
       "  </thead>\n",
       "  <tbody>\n",
       "    <tr>\n",
       "      <th>0</th>\n",
       "      <td>Our manager introduced us to a new employee.</td>\n",
       "      <td>Since she was attractive, all of the guys were...</td>\n",
       "      <td>0</td>\n",
       "    </tr>\n",
       "    <tr>\n",
       "      <th>1</th>\n",
       "      <td>Our manager introduced us to a new employee.</td>\n",
       "      <td>The new employee was nice and young. I though...</td>\n",
       "      <td>1</td>\n",
       "    </tr>\n",
       "    <tr>\n",
       "      <th>2</th>\n",
       "      <td>Carl was tasked with finding his family's Chri...</td>\n",
       "      <td>He was fifteen and he felt very manly and impo...</td>\n",
       "      <td>0</td>\n",
       "    </tr>\n",
       "    <tr>\n",
       "      <th>3</th>\n",
       "      <td>Carl was tasked with finding his family's Chri...</td>\n",
       "      <td>He searched all over town for his dad. There,...</td>\n",
       "      <td>1</td>\n",
       "    </tr>\n",
       "    <tr>\n",
       "      <th>4</th>\n",
       "      <td>Bob was always upset about his looks.</td>\n",
       "      <td>So he saved up money to get plastic surgery. H...</td>\n",
       "      <td>0</td>\n",
       "    </tr>\n",
       "  </tbody>\n",
       "</table>\n",
       "</div>"
      ],
      "text/plain": [
       "                                               input  \\\n",
       "0       Our manager introduced us to a new employee.   \n",
       "1       Our manager introduced us to a new employee.   \n",
       "2  Carl was tasked with finding his family's Chri...   \n",
       "3  Carl was tasked with finding his family's Chri...   \n",
       "4              Bob was always upset about his looks.   \n",
       "\n",
       "                                        continuation  label  \n",
       "0  Since she was attractive, all of the guys were...      0  \n",
       "1   The new employee was nice and young. I though...      1  \n",
       "2  He was fifteen and he felt very manly and impo...      0  \n",
       "3   He searched all over town for his dad. There,...      1  \n",
       "4  So he saved up money to get plastic surgery. H...      0  "
      ]
     },
     "execution_count": 134,
     "metadata": {
      "tags": []
     },
     "output_type": "execute_result"
    }
   ],
   "source": [
    "df_roc.head()"
   ]
  },
  {
   "cell_type": "code",
   "execution_count": 0,
   "metadata": {
    "colab": {},
    "colab_type": "code",
    "collapsed": true,
    "id": "MHxlRC3_aC8g"
   },
   "outputs": [],
   "source": [
    "comparative_df = pd.concat([df_roc[df_roc.label == 0].set_index('input'), df_roc[df_roc.label == 1].set_index('input')], axis = 1).reset_index()"
   ]
  },
  {
   "cell_type": "code",
   "execution_count": 0,
   "metadata": {
    "colab": {},
    "colab_type": "code",
    "collapsed": true,
    "id": "HchXlnsxclgo"
   },
   "outputs": [],
   "source": [
    "comparative_df.columns = [\"input\", \"actual\", \"label0\", \"generated\", \"label1\"]"
   ]
  },
  {
   "cell_type": "code",
   "execution_count": 0,
   "metadata": {
    "colab": {},
    "colab_type": "code",
    "collapsed": true,
    "id": "wJCUr2yOculQ"
   },
   "outputs": [],
   "source": [
    "comparative_df = comparative_df[[\"input\", \"actual\", \"generated\"]].dropna().copy()"
   ]
  },
  {
   "cell_type": "code",
   "execution_count": 0,
   "metadata": {
    "colab": {},
    "colab_type": "code",
    "collapsed": true,
    "id": "gJi7i8BRc4Za"
   },
   "outputs": [],
   "source": [
    "comparative_df[\"baseline\"] = roc_baseline"
   ]
  },
  {
   "cell_type": "code",
   "execution_count": 0,
   "metadata": {
    "colab": {},
    "colab_type": "code",
    "collapsed": true,
    "id": "mFDrqo2Uczi4"
   },
   "outputs": [],
   "source": [
    "comparative_df[\"baseline_cosine_similarity\"] = np.vectorize(getSimilarity)(comparative_df[\"actual\"], comparative_df[\"baseline\"])"
   ]
  },
  {
   "cell_type": "code",
   "execution_count": 0,
   "metadata": {
    "colab": {
     "base_uri": "https://localhost:8080/",
     "height": 34
    },
    "colab_type": "code",
    "id": "owe5USCxdKqN",
    "outputId": "6bfbfaa8-a281-4aa3-99aa-9aba14488fb6"
   },
   "outputs": [
    {
     "data": {
      "text/plain": [
       "0.4653388394080863"
      ]
     },
     "execution_count": 140,
     "metadata": {
      "tags": []
     },
     "output_type": "execute_result"
    }
   ],
   "source": [
    "comparative_df[\"baseline_cosine_similarity\"].mean()"
   ]
  },
  {
   "cell_type": "markdown",
   "metadata": {
    "colab_type": "text",
    "id": "DTshIIXjeUga"
   },
   "source": [
    "#### Baseline Perplexity"
   ]
  },
  {
   "cell_type": "code",
   "execution_count": 0,
   "metadata": {
    "colab": {
     "base_uri": "https://localhost:8080/",
     "height": 34
    },
    "colab_type": "code",
    "id": "lU_ksfLegwsZ",
    "outputId": "438e3d8f-bad6-4398-9ca3-55b1e166da24"
   },
   "outputs": [
    {
     "data": {
      "text/plain": [
       "[376.9086160395709]"
      ]
     },
     "execution_count": 171,
     "metadata": {
      "tags": []
     },
     "output_type": "execute_result"
    }
   ],
   "source": [
    "calc_perplexity([roc_baseline], roc_unigram_model)"
   ]
  },
  {
   "cell_type": "markdown",
   "metadata": {
    "colab_type": "text",
    "id": "K200n6Q46SPP"
   },
   "source": [
    "#### Baseline Classification"
   ]
  },
  {
   "cell_type": "code",
   "execution_count": 0,
   "metadata": {
    "colab": {},
    "colab_type": "code",
    "collapsed": true,
    "id": "VigpeQEw6iKJ"
   },
   "outputs": [],
   "source": [
    "import pandas as pd\n",
    "from sklearn.metrics import accuracy_score, f1_score"
   ]
  },
  {
   "cell_type": "code",
   "execution_count": 0,
   "metadata": {
    "colab": {},
    "colab_type": "code",
    "collapsed": true,
    "id": "bD8XpQGw7bQ-"
   },
   "outputs": [],
   "source": [
    "roc_df = pd.read_csv(\"evaluation/roc_test.csv\")"
   ]
  },
  {
   "cell_type": "code",
   "execution_count": 0,
   "metadata": {
    "colab": {},
    "colab_type": "code",
    "collapsed": true,
    "id": "0mwKLgtP7pf6"
   },
   "outputs": [],
   "source": [
    "roc_df[\"pred\"] = 1"
   ]
  },
  {
   "cell_type": "code",
   "execution_count": 15,
   "metadata": {
    "colab": {
     "base_uri": "https://localhost:8080/",
     "height": 54
    },
    "colab_type": "code",
    "id": "3EL-KEyF7ryP",
    "outputId": "c2eab53d-32c0-499d-8749-89bc89b31444"
   },
   "outputs": [
    {
     "name": "stdout",
     "output_type": "stream",
     "text": [
      "Accuracy:  0.5\n"
     ]
    }
   ],
   "source": [
    "print(\"Accuracy: \", accuracy_score(roc_df[\"label\"], roc_df[\"pred\"]))"
   ]
  },
  {
   "cell_type": "code",
   "execution_count": 16,
   "metadata": {
    "colab": {
     "base_uri": "https://localhost:8080/",
     "height": 54
    },
    "colab_type": "code",
    "id": "5D-2roGs7vDv",
    "outputId": "7b1ac874-e5b5-4754-9d1a-4dd1934b44f2"
   },
   "outputs": [
    {
     "name": "stdout",
     "output_type": "stream",
     "text": [
      "F1:  0.6666666666666666\n"
     ]
    }
   ],
   "source": [
    "print(\"F1: \", f1_score(roc_df[\"label\"], roc_df[\"pred\"]))"
   ]
  }
 ],
 "metadata": {
  "accelerator": "GPU",
  "colab": {
   "collapsed_sections": [
    "DLkn34WpW_YT",
    "9aoBBu9oW4aS",
    "YfejIZ5tWxPk",
    "-U2fdJdjmybT",
    "BpWw1rtCsLt_",
    "fQYMJ8aH0LeQ",
    "YJjUK0kZ5Wtl",
    "0JIs-Y_v6215",
    "PlcCvlixQfMA",
    "ZryaOuneTIu1",
    "Y1XERF8cP3qF",
    "QAaM801PQBzX",
    "8DCzxMDNVZrc",
    "0xOhXaayWGyi",
    "MzV6FeHY8HAN",
    "woXXy7WF8STf",
    "NGQmjVwr-V4U",
    "SrxWC76l-4zE",
    "hsOrfLUJ_ns0",
    "s9fsN59EAXOF",
    "9qJHUtVxA6yq",
    "sYFW8MOVBJGW",
    "ikP3cxASBSN2",
    "KUNdY-HIBkMs",
    "JCNkN5HICEjG",
    "kf55WhFaCUBb",
    "gFMLtCq1Cfps",
    "qI_X6foOeyq7",
    "q9RdcOYXZord",
    "pFlLL386aIP1",
    "O6cn3lRLZ5T3",
    "vNWLG_2Tdai4",
    "DTshIIXjeUga",
    "OZDKyuAbgnsT",
    "DbaNh2iFg6K3",
    "K200n6Q46SPP",
    "ZqVIeHv66X1u",
    "BWfQgPYB7gY2",
    "yQFHgmOH71D5"
   ],
   "name": "Gpt_2_Evaluator.ipynb",
   "provenance": [],
   "version": "0.3.2"
  },
  "kernelspec": {
   "display_name": "Python 3",
   "name": "python3"
  }
 },
 "nbformat": 4,
 "nbformat_minor": 1
}
